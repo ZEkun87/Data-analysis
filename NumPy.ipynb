{
 "cells": [
  {
   "cell_type": "code",
   "execution_count": 82,
   "metadata": {},
   "outputs": [
    {
     "data": {
      "text/plain": [
       "(array([1.1, 2.2, 3.3]), dtype('float64'))"
      ]
     },
     "execution_count": 82,
     "metadata": {},
     "output_type": "execute_result"
    }
   ],
   "source": [
    "import numpy as np # 导入NumPy 模块\n",
    "\n",
    "a = np.array([1.1, 2.2, 3.3], dtype=np.float64) # 指定 1 维数组的数值类型为 float64\n",
    "a, a.dtype # 查看 a 及 dtype 类型"
   ]
  },
  {
   "cell_type": "code",
   "execution_count": 2,
   "metadata": {},
   "outputs": [
    {
     "data": {
      "text/plain": [
       "dtype('int32')"
      ]
     },
     "execution_count": 2,
     "metadata": {},
     "output_type": "execute_result"
    }
   ],
   "source": [
    "a.astype(int).dtype # 将 a 的数值类型从 float64 转换为int, 并查看 dtype 类型"
   ]
  },
  {
   "cell_type": "code",
   "execution_count": 3,
   "metadata": {},
   "outputs": [
    {
     "data": {
      "text/plain": [
       "array([[1, 2, 3],\n",
       "       [4, 5, 6]])"
      ]
     },
     "execution_count": 3,
     "metadata": {},
     "output_type": "execute_result"
    }
   ],
   "source": [
    "np.array([[1, 2, 3], [4, 5, 6]])"
   ]
  },
  {
   "cell_type": "code",
   "execution_count": 5,
   "metadata": {},
   "outputs": [
    {
     "data": {
      "text/plain": [
       "array([[1, 2],\n",
       "       [3, 4],\n",
       "       [5, 6]])"
      ]
     },
     "execution_count": 5,
     "metadata": {},
     "output_type": "execute_result"
    }
   ],
   "source": [
    "np.array([(1, 2), (3, 4), (5, 6)])"
   ]
  },
  {
   "cell_type": "code",
   "execution_count": 6,
   "metadata": {},
   "outputs": [
    {
     "data": {
      "text/plain": [
       "array([3. , 3.5, 4. , 4.5, 5. , 5.5, 6. , 6.5], dtype=float32)"
      ]
     },
     "execution_count": 6,
     "metadata": {},
     "output_type": "execute_result"
    }
   ],
   "source": [
    "# 在区间 [3, 7] 中以 0.5 为步长新建数组\n",
    "np.arange(3, 7, 0.5, dtype='float32')"
   ]
  },
  {
   "cell_type": "markdown",
   "metadata": {},
   "source": [
    "numpy.linspace(start, stop, num=50, endpoint=Ture, retstep=False, dtype=None)\n",
    "\n",
    "start: 序列的起始值\n",
    "stop: 序列的结束值\n",
    "num: 生成的样本数，默认值为50\n",
    "endpoint: 布尔值，如果为真，则最后一个样本包含在序列内\n",
    "retstep: 布尔值，如果为真，返回间距\n",
    "dtype: 数组的类型。"
   ]
  },
  {
   "cell_type": "code",
   "execution_count": 7,
   "metadata": {},
   "outputs": [
    {
     "data": {
      "text/plain": [
       "array([ 0.        ,  1.11111111,  2.22222222,  3.33333333,  4.44444444,\n",
       "        5.55555556,  6.66666667,  7.77777778,  8.88888889, 10.        ])"
      ]
     },
     "execution_count": 7,
     "metadata": {},
     "output_type": "execute_result"
    }
   ],
   "source": [
    "np.linspace(0, 10, 10, endpoint=True)"
   ]
  },
  {
   "cell_type": "code",
   "execution_count": 8,
   "metadata": {},
   "outputs": [
    {
     "data": {
      "text/plain": [
       "array([0., 1., 2., 3., 4., 5., 6., 7., 8., 9.])"
      ]
     },
     "execution_count": 8,
     "metadata": {},
     "output_type": "execute_result"
    }
   ],
   "source": [
    "# 将 endpoint 参数改成 False 看看区别\n",
    "np.linspace(0, 10, 10, endpoint=False)"
   ]
  },
  {
   "cell_type": "markdown",
   "metadata": {},
   "source": [
    "numpy.ones(shape, dtype=None, order='C'"
   ]
  },
  {
   "cell_type": "code",
   "execution_count": 9,
   "metadata": {},
   "outputs": [
    {
     "data": {
      "text/plain": [
       "array([[1., 1., 1.],\n",
       "       [1., 1., 1.]])"
      ]
     },
     "execution_count": 9,
     "metadata": {},
     "output_type": "execute_result"
    }
   ],
   "source": [
    "np.ones((2, 3))"
   ]
  },
  {
   "cell_type": "markdown",
   "metadata": {},
   "source": [
    "numpy.zeros(shape, dtype=None, order='C')"
   ]
  },
  {
   "cell_type": "code",
   "execution_count": 10,
   "metadata": {},
   "outputs": [
    {
     "data": {
      "text/plain": [
       "array([[1., 1.],\n",
       "       [1., 1.],\n",
       "       [1., 1.]])"
      ]
     },
     "execution_count": 10,
     "metadata": {},
     "output_type": "execute_result"
    }
   ],
   "source": [
    "np.ones((3, 2))"
   ]
  },
  {
   "cell_type": "markdown",
   "metadata": {},
   "source": [
    "eye 方法创建  \n",
    "    numpy.eye(N, M=None, k=0, dtype=<type 'float'>)"
   ]
  },
  {
   "cell_type": "code",
   "execution_count": 11,
   "metadata": {},
   "outputs": [
    {
     "data": {
      "text/plain": [
       "array([[0., 0., 0., 1.],\n",
       "       [0., 0., 0., 0.],\n",
       "       [0., 0., 0., 0.],\n",
       "       [0., 0., 0., 0.],\n",
       "       [0., 0., 0., 0.]])"
      ]
     },
     "execution_count": 11,
     "metadata": {},
     "output_type": "execute_result"
    }
   ],
   "source": [
    "np.eye(5, 4, 3)"
   ]
  },
  {
   "cell_type": "markdown",
   "metadata": {},
   "source": [
    "从已知数据文件、函数中创建ndarry。NumPy提供了下面5个方法：\n",
    "\n",
    "frombuffer (buffer) : 将缓冲区转换为 1 维数组，\n",
    "fromfile (file, dtype, count, sep) : 从文本或二进制文件中构建多维数组，\n",
    "fromfunction (function, shape) : 通过函数返回值来创建多维数组，\n",
    "fromiter (iterable, dtype, count) : 从可迭代对象创建 1 维数组，\n",
    "fromstring (string, dtype, count, sep) : 从字符串中创建 1 维数组。"
   ]
  },
  {
   "cell_type": "code",
   "execution_count": 12,
   "metadata": {},
   "outputs": [
    {
     "data": {
      "text/plain": [
       "array([[0., 1., 2., 3.],\n",
       "       [1., 2., 3., 4.],\n",
       "       [2., 3., 4., 5.],\n",
       "       [3., 4., 5., 6.],\n",
       "       [4., 5., 6., 7.]])"
      ]
     },
     "execution_count": 12,
     "metadata": {},
     "output_type": "execute_result"
    }
   ],
   "source": [
    "np.fromfunction(lambda a, b: a + b, (5, 4))"
   ]
  },
  {
   "cell_type": "code",
   "execution_count": 18,
   "metadata": {},
   "outputs": [
    {
     "data": {
      "text/plain": [
       "array([[1, 2, 3],\n",
       "       [4, 5, 6],\n",
       "       [7, 8, 9]])"
      ]
     },
     "execution_count": 18,
     "metadata": {},
     "output_type": "execute_result"
    }
   ],
   "source": [
    "a = np.array([[1, 2, 3], [4, 5, 6], [7, 8, 9]])\n",
    "a # 查看 a 的值"
   ]
  },
  {
   "cell_type": "markdown",
   "metadata": {},
   "source": [
    "ndarray.T 用于数组的转置， 与 .transpose() 相同"
   ]
  },
  {
   "cell_type": "code",
   "execution_count": 19,
   "metadata": {},
   "outputs": [
    {
     "data": {
      "text/plain": [
       "array([[1, 4, 7],\n",
       "       [2, 5, 8],\n",
       "       [3, 6, 9]])"
      ]
     },
     "execution_count": 19,
     "metadata": {},
     "output_type": "execute_result"
    }
   ],
   "source": [
    "a.T"
   ]
  },
  {
   "cell_type": "markdown",
   "metadata": {},
   "source": [
    "ndarray.dtype 用来输出数组包含元素的数据类型"
   ]
  },
  {
   "cell_type": "code",
   "execution_count": 20,
   "metadata": {},
   "outputs": [
    {
     "data": {
      "text/plain": [
       "dtype('int32')"
      ]
     },
     "execution_count": 20,
     "metadata": {},
     "output_type": "execute_result"
    }
   ],
   "source": [
    "a.dtype"
   ]
  },
  {
   "cell_type": "markdown",
   "metadata": {},
   "source": [
    "ndarray.imag 用来输出数组包含元素的虚部"
   ]
  },
  {
   "cell_type": "code",
   "execution_count": 21,
   "metadata": {},
   "outputs": [
    {
     "data": {
      "text/plain": [
       "array([[0, 0, 0],\n",
       "       [0, 0, 0],\n",
       "       [0, 0, 0]])"
      ]
     },
     "execution_count": 21,
     "metadata": {},
     "output_type": "execute_result"
    }
   ],
   "source": [
    "a.imag"
   ]
  },
  {
   "cell_type": "markdown",
   "metadata": {},
   "source": [
    "ndarray.real 用来输出数组包含元素的实部"
   ]
  },
  {
   "cell_type": "code",
   "execution_count": 22,
   "metadata": {},
   "outputs": [
    {
     "data": {
      "text/plain": [
       "array([[1, 2, 3],\n",
       "       [4, 5, 6],\n",
       "       [7, 8, 9]])"
      ]
     },
     "execution_count": 22,
     "metadata": {},
     "output_type": "execute_result"
    }
   ],
   "source": [
    "a.real"
   ]
  },
  {
   "cell_type": "markdown",
   "metadata": {},
   "source": [
    "ndarray.size 用来输出数组中的总包含元素数"
   ]
  },
  {
   "cell_type": "code",
   "execution_count": 23,
   "metadata": {},
   "outputs": [
    {
     "data": {
      "text/plain": [
       "9"
      ]
     },
     "execution_count": 23,
     "metadata": {},
     "output_type": "execute_result"
    }
   ],
   "source": [
    "a.size"
   ]
  },
  {
   "cell_type": "markdown",
   "metadata": {},
   "source": [
    "ndarray.itemsize 输出一个数组元素的字节数"
   ]
  },
  {
   "cell_type": "code",
   "execution_count": 25,
   "metadata": {},
   "outputs": [
    {
     "data": {
      "text/plain": [
       "4"
      ]
     },
     "execution_count": 25,
     "metadata": {},
     "output_type": "execute_result"
    }
   ],
   "source": [
    "a.itemsize"
   ]
  },
  {
   "cell_type": "markdown",
   "metadata": {},
   "source": [
    "ndarray.nbytes 用来输出数组元素总字节数"
   ]
  },
  {
   "cell_type": "code",
   "execution_count": 26,
   "metadata": {},
   "outputs": [
    {
     "data": {
      "text/plain": [
       "36"
      ]
     },
     "execution_count": 26,
     "metadata": {},
     "output_type": "execute_result"
    }
   ],
   "source": [
    "a.nbytes"
   ]
  },
  {
   "cell_type": "markdown",
   "metadata": {},
   "source": [
    "ndarray.ndim 用来输出数组尺寸"
   ]
  },
  {
   "cell_type": "code",
   "execution_count": 27,
   "metadata": {},
   "outputs": [
    {
     "data": {
      "text/plain": [
       "2"
      ]
     },
     "execution_count": 27,
     "metadata": {},
     "output_type": "execute_result"
    }
   ],
   "source": [
    "a.ndim"
   ]
  },
  {
   "cell_type": "markdown",
   "metadata": {},
   "source": [
    "ndarray.shape 用来输出数组维数组"
   ]
  },
  {
   "cell_type": "code",
   "execution_count": 28,
   "metadata": {},
   "outputs": [
    {
     "data": {
      "text/plain": [
       "(3, 3)"
      ]
     },
     "execution_count": 28,
     "metadata": {},
     "output_type": "execute_result"
    }
   ],
   "source": [
    "a.shape"
   ]
  },
  {
   "cell_type": "markdown",
   "metadata": {},
   "source": [
    "ndarray.strides 用来遍历数组时，输出每个维度中步进的字节数组"
   ]
  },
  {
   "cell_type": "code",
   "execution_count": 29,
   "metadata": {},
   "outputs": [
    {
     "data": {
      "text/plain": [
       "(12, 4)"
      ]
     },
     "execution_count": 29,
     "metadata": {},
     "output_type": "execute_result"
    }
   ],
   "source": [
    "a.strides"
   ]
  },
  {
   "cell_type": "code",
   "execution_count": 31,
   "metadata": {},
   "outputs": [],
   "source": [
    "# 数组维度和形状\n",
    "one = np.array([7, 2, 9, 10])\n",
    "two = np.array([[5.2, 3.0, 4.5],\n",
    "               [9.1, 0.1, 0.3]])\n",
    "three = np.array([[[1, 1], [1, 1], [1, 1]],\n",
    "                [[1, 1], [1, 1], [1, 1]],\n",
    "                 [[1, 1], [1, 1], [1, 1]],\n",
    "                 [[1, 1], [1, 1], [1, 1]]])"
   ]
  },
  {
   "cell_type": "code",
   "execution_count": 33,
   "metadata": {},
   "outputs": [
    {
     "data": {
      "text/plain": [
       "((4,), (2, 3), (4, 3, 2))"
      ]
     },
     "execution_count": 33,
     "metadata": {},
     "output_type": "execute_result"
    }
   ],
   "source": [
    "one.shape, two.shape, three.shape"
   ]
  },
  {
   "cell_type": "markdown",
   "metadata": {},
   "source": [
    "重设形状\n",
    "numpy.reshape(a, newshape)\n",
    "其中， a 表示原数组，newshape 用于指定新的形状（整数或者元组）。"
   ]
  },
  {
   "cell_type": "code",
   "execution_count": 34,
   "metadata": {},
   "outputs": [
    {
     "data": {
      "text/plain": [
       "array([[0, 1],\n",
       "       [2, 3],\n",
       "       [4, 5],\n",
       "       [6, 7],\n",
       "       [8, 9]])"
      ]
     },
     "execution_count": 34,
     "metadata": {},
     "output_type": "execute_result"
    }
   ],
   "source": [
    "np.arange(10).reshape((5, 2))"
   ]
  },
  {
   "cell_type": "markdown",
   "metadata": {},
   "source": [
    "数组展开\n",
    "numpy.ravel(a, order='C')"
   ]
  },
  {
   "cell_type": "code",
   "execution_count": 35,
   "metadata": {},
   "outputs": [
    {
     "data": {
      "text/plain": [
       "array([[1, 2, 3],\n",
       "       [4, 5, 6],\n",
       "       [7, 8, 9]])"
      ]
     },
     "execution_count": 35,
     "metadata": {},
     "output_type": "execute_result"
    }
   ],
   "source": [
    "np.arange(10).reshape((2, 5))\n",
    "a"
   ]
  },
  {
   "cell_type": "code",
   "execution_count": 36,
   "metadata": {},
   "outputs": [
    {
     "data": {
      "text/plain": [
       "array([1, 2, 3, 4, 5, 6, 7, 8, 9])"
      ]
     },
     "execution_count": 36,
     "metadata": {},
     "output_type": "execute_result"
    }
   ],
   "source": [
    "np.ravel(a)"
   ]
  },
  {
   "cell_type": "code",
   "execution_count": 37,
   "metadata": {},
   "outputs": [
    {
     "data": {
      "text/plain": [
       "array([1, 4, 7, 2, 5, 8, 3, 6, 9])"
      ]
     },
     "execution_count": 37,
     "metadata": {},
     "output_type": "execute_result"
    }
   ],
   "source": [
    "np.ravel(a, order='F')"
   ]
  },
  {
   "cell_type": "markdown",
   "metadata": {},
   "source": [
    "轴移动 moveaxis 可以将数组的轴移动到新的位置\n",
    "numpy.moveaxis(a, source, destination)\n",
    "\n",
    "a: 数组，\n",
    "source: 要移动的轴的原始位置，\n",
    "destination: 要移动的轴的目标位置。"
   ]
  },
  {
   "cell_type": "code",
   "execution_count": 38,
   "metadata": {},
   "outputs": [
    {
     "data": {
      "text/plain": [
       "array([[[1.],\n",
       "        [1.],\n",
       "        [1.]],\n",
       "\n",
       "       [[1.],\n",
       "        [1.],\n",
       "        [1.]]])"
      ]
     },
     "execution_count": 38,
     "metadata": {},
     "output_type": "execute_result"
    }
   ],
   "source": [
    "a = np.ones((1, 2, 3))\n",
    "np.moveaxis(a, 0, -1)"
   ]
  },
  {
   "cell_type": "code",
   "execution_count": 39,
   "metadata": {},
   "outputs": [
    {
     "data": {
      "text/plain": [
       "((1, 2, 3), (2, 3, 1))"
      ]
     },
     "execution_count": 39,
     "metadata": {},
     "output_type": "execute_result"
    }
   ],
   "source": [
    "a.shape, np.moveaxis(a, 0, -1).shape"
   ]
  },
  {
   "cell_type": "markdown",
   "metadata": {},
   "source": [
    "轴交换\n",
    " 和 moveaxis 不同的是， swapaxes 可以用来交换数组的轴。\n",
    " \n",
    " numpy.swapaxes(a, axisl, axis2)\n",
    "  \n",
    "  a: 数组，\n",
    "  axisl: 需要交换的轴1位置，\n",
    "  axis2: 需要与轴 1 交换位置的轴 1 位置。"
   ]
  },
  {
   "cell_type": "code",
   "execution_count": 40,
   "metadata": {},
   "outputs": [
    {
     "data": {
      "text/plain": [
       "array([[[1.],\n",
       "        [1.],\n",
       "        [1.],\n",
       "        [1.]],\n",
       "\n",
       "       [[1.],\n",
       "        [1.],\n",
       "        [1.],\n",
       "        [1.]],\n",
       "\n",
       "       [[1.],\n",
       "        [1.],\n",
       "        [1.],\n",
       "        [1.]]])"
      ]
     },
     "execution_count": 40,
     "metadata": {},
     "output_type": "execute_result"
    }
   ],
   "source": [
    "a = np.ones((1, 4, 3))\n",
    "np.swapaxes(a, 0, 2)"
   ]
  },
  {
   "cell_type": "markdown",
   "metadata": {},
   "source": [
    "数组转置\n",
    " transpose 类似于矩阵的转置，它可以将 2 维数组的横轴和纵轴交换\n",
    " \n",
    "  a: 数组，\n",
    "  axis: 该值默认为 none, 表示转置。如果有值，那么则按照值替换轴"
   ]
  },
  {
   "cell_type": "code",
   "execution_count": 41,
   "metadata": {},
   "outputs": [
    {
     "data": {
      "text/plain": [
       "array([[0, 2],\n",
       "       [1, 3]])"
      ]
     },
     "execution_count": 41,
     "metadata": {},
     "output_type": "execute_result"
    }
   ],
   "source": [
    "a = np.arange(4).reshape(2, 2)\n",
    "np.transpose(a)"
   ]
  },
  {
   "cell_type": "markdown",
   "metadata": {},
   "source": [
    "维度改变\n",
    " atleast_xd 支持将输入数据直接视为 x 维，这里的x 可以表示： 1， 2， 3\n",
    " \n",
    "   numpy.atleast_1d()\n",
    "   numpy.atleast_2d()\n",
    "   numpy.atleast_3d()"
   ]
  },
  {
   "cell_type": "code",
   "execution_count": 43,
   "metadata": {},
   "outputs": [
    {
     "name": "stdout",
     "output_type": "stream",
     "text": [
      "[1 2 3]\n",
      "[[4 5 6]]\n",
      "[[[7]\n",
      "  [8]\n",
      "  [9]]]\n"
     ]
    }
   ],
   "source": [
    "print(np.atleast_1d([1, 2, 3]))\n",
    "print(np.atleast_2d([4, 5, 6]))\n",
    "print(np.atleast_3d([7, 8, 9]))"
   ]
  },
  {
   "cell_type": "markdown",
   "metadata": {},
   "source": [
    "类型转换\n",
    " 在 NumPy 中，还有一系列以 as 开头的方法，它们可以将特定输入转换为数组，亦可将数组转换为矩阵、标量，ndarry等\n",
    " \n",
    " asarray(a, dtype, order): 将特定输入转换为数组，\n",
    " asanyarry(a, dtype, order): 将特定输入转换为 ndarry,\n",
    " asmatrix(data, dtype): 将特定输入转换为矩阵，\n",
    " asfarray(a, dtype): 将特定输入转换为float 类型的数组，\n",
    " asarray_chkfinite(a, dtype, order): 将特定输入转换为数组，检查NaN 或 infs,\n",
    " asscalar(a): 将大小为 1 的数组转换为标量。"
   ]
  },
  {
   "cell_type": "code",
   "execution_count": 44,
   "metadata": {},
   "outputs": [
    {
     "data": {
      "text/plain": [
       "matrix([[0, 1],\n",
       "        [2, 3]])"
      ]
     },
     "execution_count": 44,
     "metadata": {},
     "output_type": "execute_result"
    }
   ],
   "source": [
    "a = np.arange(4).reshape(2, 2)\n",
    "np.asmatrix(a)  # 将二维数组转化为矩阵类型"
   ]
  },
  {
   "cell_type": "markdown",
   "metadata": {},
   "source": [
    "数组连接\n",
    " concatenate 可以将多个数组沿指定轴连接在一起\n",
    "  \n",
    " numpy.concatenate((a1, a2, ...), axis=0)\n",
    " \n",
    " (a1, a2, ...): 需要连接的数组，\n",
    " axis: 指定连接轴。"
   ]
  },
  {
   "cell_type": "code",
   "execution_count": 45,
   "metadata": {},
   "outputs": [
    {
     "data": {
      "text/plain": [
       "array([[ 1,  2],\n",
       "       [ 3,  4],\n",
       "       [ 5,  6],\n",
       "       [ 7,  8],\n",
       "       [ 9, 10],\n",
       "       [11, 12]])"
      ]
     },
     "execution_count": 45,
     "metadata": {},
     "output_type": "execute_result"
    }
   ],
   "source": [
    "a = np.array([[1, 2], [3, 4], [5, 6]])\n",
    "b = np.array([[7, 8], [9, 10]])\n",
    "c = np.array([[11, 12]])\n",
    "\n",
    "np.concatenate((a, b, c), axis=0)"
   ]
  },
  {
   "cell_type": "code",
   "execution_count": 48,
   "metadata": {},
   "outputs": [
    {
     "data": {
      "text/plain": [
       "array([[1, 2, 7],\n",
       "       [3, 4, 8],\n",
       "       [5, 6, 9]])"
      ]
     },
     "execution_count": 48,
     "metadata": {},
     "output_type": "execute_result"
    }
   ],
   "source": [
    "a = np.array([[1, 2], [3, 4], [5, 6]])\n",
    "b = np.array([[7, 8, 9,]])\n",
    "\n",
    "np.concatenate((a, b.T), axis=1)"
   ]
  },
  {
   "cell_type": "markdown",
   "metadata": {},
   "source": [
    "数组堆叠\n",
    " 在NumPy 中，以下方法可用于数组的堆叠：\n",
    " \n",
    " stack(arrays, axis): 沿着新轴连接数组的序列，\n",
    " colunm_stack(): 将 1 维数组作为列堆叠到 2 维数组中，\n",
    " hstack(): 按水平方向堆叠数组，\n",
    " vstack(): 按垂直方向堆叠数组，\n",
    " dstack(): 按深度方向堆叠数组。"
   ]
  },
  {
   "cell_type": "code",
   "execution_count": 50,
   "metadata": {},
   "outputs": [
    {
     "data": {
      "text/plain": [
       "array([[1, 2, 3],\n",
       "       [4, 5, 6]])"
      ]
     },
     "execution_count": 50,
     "metadata": {},
     "output_type": "execute_result"
    }
   ],
   "source": [
    "a = np.array([1, 2, 3])\n",
    "b = np.array([4, 5, 6])\n",
    "np.stack((a, b))"
   ]
  },
  {
   "cell_type": "code",
   "execution_count": 51,
   "metadata": {},
   "outputs": [
    {
     "data": {
      "text/plain": [
       "array([[1, 4],\n",
       "       [2, 5],\n",
       "       [3, 6]])"
      ]
     },
     "execution_count": 51,
     "metadata": {},
     "output_type": "execute_result"
    }
   ],
   "source": [
    "np.stack((a, b), axis=-1)"
   ]
  },
  {
   "cell_type": "markdown",
   "metadata": {},
   "source": [
    "拆分\n",
    " split 及与之相似的一系列方法主要是用于数组的拆分\n",
    " \n",
    " split(ary, indices_or_sections, axis): 将数组拆分为多个子数组，\n",
    " dsplit(ary, indices_or_sections): 按深度方向将数组拆分成多个子数组，\n",
    " hsplit(ary, indices_or_sections): 按水平方向将数组拆分成多个子数组，\n",
    " vsplit(ary, indices_or_sections): 按垂直方向将数组拆分成多个子数组。"
   ]
  },
  {
   "cell_type": "code",
   "execution_count": 52,
   "metadata": {},
   "outputs": [
    {
     "data": {
      "text/plain": [
       "[array([0, 1]), array([2, 3]), array([4, 5]), array([6, 7]), array([8, 9])]"
      ]
     },
     "execution_count": 52,
     "metadata": {},
     "output_type": "execute_result"
    }
   ],
   "source": [
    "a = np.arange(10)\n",
    "np.split(a, 5)"
   ]
  },
  {
   "cell_type": "code",
   "execution_count": 53,
   "metadata": {},
   "outputs": [
    {
     "data": {
      "text/plain": [
       "[array([[0, 1, 2, 3, 4]]), array([[5, 6, 7, 8, 9]])]"
      ]
     },
     "execution_count": 53,
     "metadata": {},
     "output_type": "execute_result"
    }
   ],
   "source": [
    "a = np.arange(10).reshape(2, 5)\n",
    "np.split(a, 2)"
   ]
  },
  {
   "cell_type": "markdown",
   "metadata": {},
   "source": [
    "NumPy 中还有针对数组元素添加或移除的一些方法\n",
    "  \n",
    "  删除\n",
    "  首先是delete 删除\n",
    "  \n",
    "  delete(arr, obj, axis): 沿特定轴删除数组中子数组"
   ]
  },
  {
   "cell_type": "code",
   "execution_count": 54,
   "metadata": {},
   "outputs": [
    {
     "data": {
      "text/plain": [
       "array([[ 0,  1,  3],\n",
       "       [ 4,  5,  7],\n",
       "       [ 8,  9, 11]])"
      ]
     },
     "execution_count": 54,
     "metadata": {},
     "output_type": "execute_result"
    }
   ],
   "source": [
    "a = np.arange(12).reshape(3, 4)\n",
    "np.delete(a, 2, 1)"
   ]
  },
  {
   "cell_type": "code",
   "execution_count": 55,
   "metadata": {},
   "outputs": [
    {
     "data": {
      "text/plain": [
       "array([[0, 1, 2, 3],\n",
       "       [4, 5, 6, 7]])"
      ]
     },
     "execution_count": 55,
     "metadata": {},
     "output_type": "execute_result"
    }
   ],
   "source": [
    "np.delete(a, 2, 0)"
   ]
  },
  {
   "cell_type": "markdown",
   "metadata": {},
   "source": [
    "数组插入\n",
    " 再看一看insert插入，用法和 delete很相似，只是需要在第三个参数位置设置需要插入的数组对象：\n",
    " \n",
    " insert(arr, obj, values, axis): 依据索引在特定轴之前插入值"
   ]
  },
  {
   "cell_type": "code",
   "execution_count": 56,
   "metadata": {},
   "outputs": [
    {
     "data": {
      "text/plain": [
       "array([[ 0,  1,  2,  3],\n",
       "       [ 4,  5,  6,  7],\n",
       "       [ 0,  1,  2,  3],\n",
       "       [ 8,  9, 10, 11]])"
      ]
     },
     "execution_count": 56,
     "metadata": {},
     "output_type": "execute_result"
    }
   ],
   "source": [
    "a = np.arange(12).reshape(3, 4)\n",
    "b = np.arange(4)\n",
    "\n",
    "np.insert(a, 2, b, 0)"
   ]
  },
  {
   "cell_type": "markdown",
   "metadata": {},
   "source": [
    "附加\n",
    " \n",
    "  append 的用法也非常简单，只需要设置好需要附加的值和轴位置就好了，它其实相对于只能在末尾插入的insert, 所以少了一个指定索引的参数\n",
    "  \n",
    "  append(arr, values, axis):将值附加到数组的末尾，并返回 1 维数组。"
   ]
  },
  {
   "cell_type": "code",
   "execution_count": 57,
   "metadata": {},
   "outputs": [
    {
     "data": {
      "text/plain": [
       "array([0, 1, 2, 3, 4, 5, 0, 1, 2])"
      ]
     },
     "execution_count": 57,
     "metadata": {},
     "output_type": "execute_result"
    }
   ],
   "source": [
    "a = np.arange(6).reshape(2, 3)\n",
    "b = np.arange(3)\n",
    "\n",
    "np.append(a, b)\n",
    "# 注意 append 方法返回值，默认是展平状态下的 1 维数组"
   ]
  },
  {
   "cell_type": "markdown",
   "metadata": {},
   "source": [
    "重设尺寸\n",
    "\n",
    " resize 就很好理解了，直接举例子吧：\n",
    "  \n",
    "  resize(a, new_shape): 对数组尺寸进行重新设定。"
   ]
  },
  {
   "cell_type": "code",
   "execution_count": 58,
   "metadata": {},
   "outputs": [
    {
     "data": {
      "text/plain": [
       "array([[0, 1, 2, 3, 4],\n",
       "       [5, 6, 7, 8, 9]])"
      ]
     },
     "execution_count": 58,
     "metadata": {},
     "output_type": "execute_result"
    }
   ],
   "source": [
    "a = np.arange(10)\n",
    "a.resize(2, 5)\n",
    "a"
   ]
  },
  {
   "cell_type": "markdown",
   "metadata": {},
   "source": [
    "翻转数组\n",
    " \n",
    "  fliplr(m): 左右翻转数组，\n",
    "  flipud(m): 上下翻转数组。"
   ]
  },
  {
   "cell_type": "code",
   "execution_count": 59,
   "metadata": {},
   "outputs": [
    {
     "name": "stdout",
     "output_type": "stream",
     "text": [
      "[[ 3  2  1  0]\n",
      " [ 7  6  5  4]\n",
      " [11 10  9  8]\n",
      " [15 14 13 12]]\n",
      "[[12 13 14 15]\n",
      " [ 8  9 10 11]\n",
      " [ 4  5  6  7]\n",
      " [ 0  1  2  3]]\n"
     ]
    }
   ],
   "source": [
    "a = np.arange(16).reshape(4, 4)\n",
    "print(np.fliplr(a))\n",
    "print(np.flipud(a))"
   ]
  },
  {
   "cell_type": "markdown",
   "metadata": {},
   "source": [
    "NumPy随机数\n",
    "\n",
    " NumPy的随机数功能非常强大，主要由 numpy.random 模块完成，\n",
    " \n",
    " 首先，我们需要了解如何使用NumPy也就是生成一些满足基本需求的随机数据，主要由以下一些方法完成：\n",
    " \n",
    " numpy.random.rand(d0, d1, ..., dn) 方法的作用为：指定一个数组，并使用 [0,1] 区间随机数据填充，这些数据均匀分布。"
   ]
  },
  {
   "cell_type": "code",
   "execution_count": 63,
   "metadata": {},
   "outputs": [
    {
     "data": {
      "text/plain": [
       "array([[0.11403927, 0.21932107, 0.76727445, 0.45606556, 0.38280459],\n",
       "       [0.35473924, 0.05203464, 0.3825555 , 0.53027945, 0.31305944]])"
      ]
     },
     "execution_count": 63,
     "metadata": {},
     "output_type": "execute_result"
    }
   ],
   "source": [
    "np.random.rand(2, 5)"
   ]
  },
  {
   "cell_type": "markdown",
   "metadata": {},
   "source": [
    "numpy.random.rand(d0, d1, ..., dn) 与 numpy.random.rand(d0, d1, ..., dn) 的区别在于，前者是从标准正太分布中返回一个或多个样本值。"
   ]
  },
  {
   "cell_type": "code",
   "execution_count": 64,
   "metadata": {},
   "outputs": [
    {
     "data": {
      "text/plain": [
       "array([[-0.6976546 ,  1.51554436,  0.67105875, -0.7495746 ,  0.61274015,\n",
       "        -0.96783351, -1.3437705 , -1.71768977, -0.15703284,  1.97765577]])"
      ]
     },
     "execution_count": 64,
     "metadata": {},
     "output_type": "execute_result"
    }
   ],
   "source": [
    "np.random.randn(1, 10)"
   ]
  },
  {
   "cell_type": "markdown",
   "metadata": {},
   "source": [
    "randint(low, high, size, dtype) 方法将会生成[low, high] 的随机整数，注意这是一个半开半闭区间。"
   ]
  },
  {
   "cell_type": "code",
   "execution_count": 65,
   "metadata": {},
   "outputs": [
    {
     "data": {
      "text/plain": [
       "array([3, 2, 4, 3, 3, 4, 4, 3, 2, 2])"
      ]
     },
     "execution_count": 65,
     "metadata": {},
     "output_type": "execute_result"
    }
   ],
   "source": [
    "np.random.randint(2, 5, 10)"
   ]
  },
  {
   "cell_type": "markdown",
   "metadata": {},
   "source": [
    "random_sample(size) 方法将会在 [0， 1] 区间内生成指定 size 的随机浮点数。"
   ]
  },
  {
   "cell_type": "code",
   "execution_count": 66,
   "metadata": {},
   "outputs": [
    {
     "data": {
      "text/plain": [
       "array([0.80801259, 0.33658538, 0.3857331 , 0.82156384, 0.51691333,\n",
       "       0.43942203, 0.08406996, 0.19692194, 0.76842128, 0.20408077])"
      ]
     },
     "execution_count": 66,
     "metadata": {},
     "output_type": "execute_result"
    }
   ],
   "source": [
    "np.random.random_sample([10])"
   ]
  },
  {
   "cell_type": "markdown",
   "metadata": {},
   "source": [
    "与 numpy.random.random_sample 类似的方法还有：\n",
    " \n",
    " numpy.random.random([size])\n",
    " numpy.random.ranf([size])\n",
    " numpy.random.sample([size])\n",
    " \n",
    " 它们 4 个的效果都差不多\n",
    " \n",
    "  choice(a, size, replace, p) 方法将会给定的数组里随机抽取几个值，该方法类似于随机抽样。"
   ]
  },
  {
   "cell_type": "code",
   "execution_count": 67,
   "metadata": {},
   "outputs": [
    {
     "data": {
      "text/plain": [
       "array([7, 3, 1, 3, 5])"
      ]
     },
     "execution_count": 67,
     "metadata": {},
     "output_type": "execute_result"
    }
   ],
   "source": [
    "np.random.choice(10, 5)\n",
    "\n",
    "# 上面的代码将会在 np.arange(10) 中随机抽取5个数。"
   ]
  },
  {
   "cell_type": "markdown",
   "metadata": {},
   "source": [
    "概率密度分布\n",
    "\n",
    " 除了上面介绍的6种随机数生成方法， NumPy还提供了大量的满足特定概率密度分布的样本生成方法，它们的使用方法和上面非常相似，这里就不再一一介绍了。列举如下：    \n",
    "    numpy.random.beta(a，b，size)：从 Beta 分布中生成随机数。\n",
    "    numpy.random.binomial(n, p, size)：从二项分布中生成随机数。\n",
    "    numpy.random.chisquare(df，size)：从卡方分布中生成随机数。\n",
    "    numpy.random.dirichlet(alpha，size)：从 Dirichlet 分布中生成随机数。\n",
    "    numpy.random.exponential(scale，size)：从指数分布中生成随机数。\n",
    "    numpy.random.f(dfnum，dfden，size)：从 F 分布中生成随机数。\n",
    "    numpy.random.gamma(shape，scale，size)：从 Gamma 分布中生成随机数。\n",
    "    numpy.random.geometric(p，size)：从几何分布中生成随机数。\n",
    "    numpy.random.gumbel(loc，scale，size)：从 Gumbel 分布中生成随机数。\n",
    "    numpy.random.hypergeometric(ngood, nbad, nsample, size)：从超几何分布中生成随机数。\n",
    "    numpy.random.laplace(loc，scale，size)：从拉普拉斯双指数分布中生成随机数。\n",
    "    numpy.random.logistic(loc，scale，size)：从逻辑分布中生成随机数。\n",
    "    numpy.random.lognormal(mean，sigma，size)：从对数正态分布中生成随机数。\n",
    "    numpy.random.logseries(p，size)：从对数系列分布中生成随机数。\n",
    "    numpy.random.multinomial(n，pvals，size)：从多项分布中生成随机数。\n",
    "    numpy.random.multivariate_normal(mean, cov, size)：从多变量正态分布绘制随机样本。\n",
    "    numpy.random.negative_binomial(n, p, size)：从负二项分布中生成随机数。\n",
    "    numpy.random.noncentral_chisquare(df，nonc，size)：从非中心卡方分布中生成随机数。\n",
    "    numpy.random.noncentral_f(dfnum, dfden, nonc, size)：从非中心 F 分布中抽取样本。\n",
    "    numpy.random.normal(loc，scale，size)：从正态分布绘制随机样本。\n",
    "    numpy.random.pareto(a，size)：从具有指定形状的 Pareto II 或 Lomax 分布中生成随机数。\n",
    "    numpy.random.poisson(lam，size)：从泊松分布中生成随机数。\n",
    "    numpy.random.power(a，size)：从具有正指数 a-1 的功率分布中在 0，1 中生成随机数。\n",
    "    numpy.random.rayleigh(scale，size)：从瑞利分布中生成随机数。\n",
    "    numpy.random.standard_cauchy(size)：从标准 Cauchy 分布中生成随机数。\n",
    "    numpy.random.standard_exponential(size)：从标准指数分布中生成随机数。\n",
    "    numpy.random.standard_gamma(shape，size)：从标准 Gamma 分布中生成随机数。\n",
    "    numpy.random.standard_normal(size)：从标准正态分布中生成随机数。\n",
    "    numpy.random.standard_t(df，size)：从具有 df 自由度的标准学生 t 分布中生成随机数。\n",
    "    numpy.random.triangular(left，mode，right，size)：从三角分布中生成随机数。\n",
    "    numpy.random.uniform(low，high，size)：从均匀分布中生成随机数。\n",
    "    numpy.random.vonmises(mu，kappa，size)：从 von Mises 分布中生成随机数。\n",
    "    numpy.random.wald(mean，scale，size)：从 Wald 或反高斯分布中生成随机数。\n",
    "    numpy.random.weibull(a，size)：从威布尔分布中生成随机数。\n",
    "    numpy.random.zipf(a，size)：从 Zipf 分布中生成随机数。"
   ]
  },
  {
   "cell_type": "markdown",
   "metadata": {},
   "source": [
    "数学函数\n",
    " \n",
    "使用Python 自带的运算符，你可以完成数学中的加减乘除，以及取余、取整，幂次计算等。导入自带的math 模块之后，里面又包含绝对值、\n",
    "阶乘、开平方等一些常用的数学函数；不过，这些函数仍然相对基础，如果要完成更加复杂一些的数学计算，就会显得捉襟见付了。\n",
    "\n",
    "NumPy为我们提供了更多的数学函数，以帮助我们更好地完成一些数值计算，下面就依次来看一看。\n",
    "\n",
    "三角函数\n",
    "\n",
    "首先，看一看NumPy提供的三角函数功能，这些方法有：\n",
    "\n",
    " numpy.sin(x): 三角正弦，\n",
    " numpy.cos(x): 三角余弦，\n",
    " numpy.tan(x): 三角正切，\n",
    " numpy.arcsin(x): 三角反正弦，\n",
    " numpy.arccos(x): 三角反余弦，\n",
    " numpy.arctan(x): 三角反正切，\n",
    " numpy.hypot(x1,x2): 直角三角形求斜边，\n",
    " numpy.degrees(x): 弧度转换为度，\n",
    " numpy.radians(x): 度转换为弧度，\n",
    " numpy.deg2rad(x): 度转换为弧度，\n",
    " numpy.fad2deg(x): 弧度转换为度。\n",
    " \n",
    " 比如，我们可以用上面提到的 numpy.fad2deg(x): 弧度转换为度。"
   ]
  },
  {
   "cell_type": "code",
   "execution_count": 69,
   "metadata": {},
   "outputs": [
    {
     "data": {
      "text/plain": [
       "180.0"
      ]
     },
     "execution_count": 69,
     "metadata": {},
     "output_type": "execute_result"
    }
   ],
   "source": [
    "np.rad2deg(np.pi) # PI 值弧度表示"
   ]
  },
  {
   "cell_type": "markdown",
   "metadata": {},
   "source": [
    "双曲函数\n",
    "在数学中，双曲函数是一类与常见的三角函数类似的函数。双曲函数经常出现于某些重要的线性微分方程的解中，使用 NumPy 计算它们的方法为：\n",
    "numpy.sinh(x)：双曲正弦。\n",
    "numpy.cosh(x)：双曲余弦。\n",
    "numpy.tanh(x)：双曲正切。\n",
    "numpy.arcsinh(x)：反双曲正弦。\n",
    "numpy.arccosh(x)：反双曲余弦。\n",
    "numpy.arctanh(x)：反双曲正切。\n",
    "数值修约\n",
    "数值修约, 又称数字修约, 是指在进行具体的数字运算前, 按照一定的规则确定一致的位数, 然后舍去某些数字后面多余的尾数的过程。比如, 我们常听到的「4 舍 5 入」就属于数值修约中的一种。\n",
    "numpy.around(a)：平均到给定的小数位数。\n",
    "numpy.round_(a)：将数组舍入到给定的小数位数。\n",
    "numpy.rint(x)：修约到最接近的整数。\n",
    "numpy.fix(x, y)：向 0 舍入到最接近的整数。\n",
    "numpy.floor(x)：返回输入的底部(标量 x 的底部是最大的整数 i)。\n",
    "numpy.ceil(x)：返回输入的上限(标量 x 的底部是最小的整数 i).\n",
    "numpy.trunc(x)：返回输入的截断值。\n",
    "\n",
    "\n",
    "随机选择几个浮点数，看一看上面方法的区别。"
   ]
  },
  {
   "cell_type": "code",
   "execution_count": 71,
   "metadata": {},
   "outputs": [
    {
     "data": {
      "text/plain": [
       "array([-0.55899671, -1.78346083, -1.99124314,  0.13107694, -1.3145877 ])"
      ]
     },
     "execution_count": 71,
     "metadata": {},
     "output_type": "execute_result"
    }
   ],
   "source": [
    "a = np.random.randn(5) # 生成 5 个随机数\n",
    "a  # 输出 a 的值"
   ]
  },
  {
   "cell_type": "code",
   "execution_count": 72,
   "metadata": {},
   "outputs": [
    {
     "data": {
      "text/plain": [
       "array([-1., -2., -2.,  0., -1.])"
      ]
     },
     "execution_count": 72,
     "metadata": {},
     "output_type": "execute_result"
    }
   ],
   "source": [
    "np.around(a)"
   ]
  },
  {
   "cell_type": "code",
   "execution_count": 73,
   "metadata": {},
   "outputs": [
    {
     "data": {
      "text/plain": [
       "array([-1., -2., -2.,  0., -1.])"
      ]
     },
     "execution_count": 73,
     "metadata": {},
     "output_type": "execute_result"
    }
   ],
   "source": [
    "np.rint(a)"
   ]
  },
  {
   "cell_type": "code",
   "execution_count": 74,
   "metadata": {},
   "outputs": [
    {
     "data": {
      "text/plain": [
       "array([-0., -1., -1.,  0., -1.])"
      ]
     },
     "execution_count": 74,
     "metadata": {},
     "output_type": "execute_result"
    }
   ],
   "source": [
    "np.fix(a)"
   ]
  },
  {
   "cell_type": "markdown",
   "metadata": {},
   "source": [
    "求和、求积、差分\n",
    "下面这些方法用于数组内元素或数组间进行求和、求积以及进行差分。\n",
    "Markdown Code\n",
    "    \n",
    " \n",
    "numpy.prod(a, axis, dtype, keepdims)：返回指定轴上的数组元素的乘积。\n",
    "numpy.sum(a, axis, dtype, keepdims)：返回指定轴上的数组元素的总和。\n",
    "numpy.nanprod(a, axis, dtype, keepdims)：返回指定轴上的数组元素的乘积, 将 NaN 视作 1。\n",
    "numpy.nansum(a, axis, dtype, keepdims)：返回指定轴上的数组元素的总和, 将 NaN 视作 0。\n",
    "numpy.cumprod(a, axis, dtype)：返回沿给定轴的元素的累积乘积。\n",
    "numpy.cumsum(a, axis, dtype)：返回沿给定轴的元素的累积总和。\n",
    "numpy.nancumprod(a, axis, dtype)：返回沿给定轴的元素的累积乘积, 将 NaN 视作 1。\n",
    "numpy.nancumsum(a, axis, dtype)：返回沿给定轴的元素的累积总和, 将 NaN 视作 0。\n",
    "numpy.diff(a, n, axis)：计算沿指定轴的第 n 个离散差分。\n",
    "numpy.ediff1d(ary, to_end, to_begin)：数组的连续元素之间的差异。\n",
    "numpy.gradient(f)：返回 N 维数组的梯度。\n",
    "numpy.cross(a, b, axisa, axisb, axisc, axis)：返回两个(数组）向量的叉积。\n",
    "numpy.trapz(y, x, dx, axis)：使用复合梯形规则沿给定轴积分。\n",
    "\n",
    "\n",
    "下面，我们选取几个举例测试一下："
   ]
  },
  {
   "cell_type": "code",
   "execution_count": 75,
   "metadata": {},
   "outputs": [
    {
     "data": {
      "text/plain": [
       "array([0, 1, 2, 3, 4, 5, 6, 7, 8, 9])"
      ]
     },
     "execution_count": 75,
     "metadata": {},
     "output_type": "execute_result"
    }
   ],
   "source": [
    "a = np.arange(10)  # 生成0-9\n",
    "a  # 输出 a 的值"
   ]
  },
  {
   "cell_type": "code",
   "execution_count": 76,
   "metadata": {},
   "outputs": [
    {
     "data": {
      "text/plain": [
       "45"
      ]
     },
     "execution_count": 76,
     "metadata": {},
     "output_type": "execute_result"
    }
   ],
   "source": [
    "np.sum(a)"
   ]
  },
  {
   "cell_type": "code",
   "execution_count": 77,
   "metadata": {},
   "outputs": [
    {
     "data": {
      "text/plain": [
       "array([1, 1, 1, 1, 1, 1, 1, 1, 1])"
      ]
     },
     "execution_count": 77,
     "metadata": {},
     "output_type": "execute_result"
    }
   ],
   "source": [
    "np.diff(a)"
   ]
  },
  {
   "cell_type": "markdown",
   "metadata": {},
   "source": [
    "指数和对数\n",
    "如果你需要进行指数或者对数求解，可以用到以下这些方法。\n",
    "numpy.exp(x)：计算输入数组中所有元素的指数。\n",
    "numpy.log(x)：计算自然对数。\n",
    "numpy.log10(x)：计算常用对数。\n",
    "numpy.log2(x)：计算二进制对数。\n",
    "\n",
    "\n",
    "算术运算\n",
    "当然，NumPy 也提供了一些用于算术运算的方法，使用起来会比 Python 提供的运算符灵活一些，主要是可以直接针对数组。\n",
    "numpy.add(x1, x2)：对应元素相加。\n",
    "numpy.reciprocal(x)：求倒数 1/x。\n",
    "numpy.negative(x)：求对应负数。\n",
    "numpy.multiply(x1, x2)：求解乘法。\n",
    "numpy.divide(x1, x2)：相除 x1/x2。\n",
    "numpy.power(x1, x2)：类似于 x1^x2。\n",
    "numpy.subtract(x1, x2)：减法。\n",
    "numpy.fmod(x1, x2)：返回除法的元素余项。\n",
    "numpy.mod(x1, x2)：返回余项。\n",
    "numpy.modf(x1)：返回数组的小数和整数部分。\n",
    "numpy.remainder(x1, x2)：返回除法余数。"
   ]
  },
  {
   "cell_type": "code",
   "execution_count": 3,
   "metadata": {},
   "outputs": [
    {
     "ename": "NameError",
     "evalue": "name 'np' is not defined",
     "output_type": "error",
     "traceback": [
      "\u001b[1;31m---------------------------------------------------------------------------\u001b[0m",
      "\u001b[1;31mNameError\u001b[0m                                 Traceback (most recent call last)",
      "\u001b[1;32m<ipython-input-3-ab9a6f678253>\u001b[0m in \u001b[0;36m<module>\u001b[1;34m()\u001b[0m\n\u001b[1;32m----> 1\u001b[1;33m \u001b[0ma1\u001b[0m \u001b[1;33m=\u001b[0m \u001b[0mnp\u001b[0m\u001b[1;33m.\u001b[0m\u001b[0mrandom\u001b[0m\u001b[1;33m.\u001b[0m\u001b[0mrandint\u001b[0m\u001b[1;33m(\u001b[0m\u001b[1;36m0\u001b[0m\u001b[1;33m,\u001b[0m \u001b[1;36m10\u001b[0m\u001b[1;33m,\u001b[0m \u001b[1;36m5\u001b[0m\u001b[1;33m)\u001b[0m  \u001b[1;31m# 生成 5 个从 0-10 的随机整数\u001b[0m\u001b[1;33m\u001b[0m\u001b[0m\n\u001b[0m\u001b[0;32m      2\u001b[0m \u001b[0ma2\u001b[0m \u001b[1;33m=\u001b[0m \u001b[0mnp\u001b[0m\u001b[1;33m.\u001b[0m\u001b[0mrandom\u001b[0m\u001b[1;33m.\u001b[0m\u001b[0mrandint\u001b[0m\u001b[1;33m(\u001b[0m\u001b[1;36m0\u001b[0m\u001b[1;33m,\u001b[0m \u001b[1;36m10\u001b[0m\u001b[1;33m,\u001b[0m \u001b[1;36m5\u001b[0m\u001b[1;33m)\u001b[0m\u001b[1;33m\u001b[0m\u001b[0m\n\u001b[0;32m      3\u001b[0m \u001b[0ma1\u001b[0m\u001b[1;33m,\u001b[0m \u001b[0ma2\u001b[0m  \u001b[1;31m# 输出 a1, a2\u001b[0m\u001b[1;33m\u001b[0m\u001b[0m\n",
      "\u001b[1;31mNameError\u001b[0m: name 'np' is not defined"
     ]
    }
   ],
   "source": [
    "a1 = np.random.randint(0, 10, 5)  # 生成 5 个从 0-10 的随机整数\n",
    "a2 = np.random.randint(0, 10, 5) \n",
    "a1, a2  # 输出 a1, a2"
   ]
  },
  {
   "cell_type": "code",
   "execution_count": 4,
   "metadata": {},
   "outputs": [
    {
     "ename": "NameError",
     "evalue": "name 'np' is not defined",
     "output_type": "error",
     "traceback": [
      "\u001b[1;31m---------------------------------------------------------------------------\u001b[0m",
      "\u001b[1;31mNameError\u001b[0m                                 Traceback (most recent call last)",
      "\u001b[1;32m<ipython-input-4-387f4584c424>\u001b[0m in \u001b[0;36m<module>\u001b[1;34m()\u001b[0m\n\u001b[1;32m----> 1\u001b[1;33m \u001b[0mnp\u001b[0m\u001b[1;33m.\u001b[0m\u001b[0madd\u001b[0m\u001b[1;33m(\u001b[0m\u001b[0ma1\u001b[0m\u001b[1;33m,\u001b[0m \u001b[0ma2\u001b[0m\u001b[1;33m)\u001b[0m\u001b[1;33m\u001b[0m\u001b[0m\n\u001b[0m",
      "\u001b[1;31mNameError\u001b[0m: name 'np' is not defined"
     ]
    }
   ],
   "source": [
    "np.add(a1, a2)"
   ]
  }
 ],
 "metadata": {
  "kernelspec": {
   "display_name": "Python 3",
   "language": "python",
   "name": "python3"
  },
  "language_info": {
   "codemirror_mode": {
    "name": "ipython",
    "version": 3
   },
   "file_extension": ".py",
   "mimetype": "text/x-python",
   "name": "python",
   "nbconvert_exporter": "python",
   "pygments_lexer": "ipython3",
   "version": "3.7.0"
  }
 },
 "nbformat": 4,
 "nbformat_minor": 2
}
